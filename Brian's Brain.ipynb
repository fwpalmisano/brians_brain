{
 "cells": [
  {
   "cell_type": "code",
   "execution_count": 1,
   "metadata": {},
   "outputs": [],
   "source": [
    "import numpy as np \n",
    "import math\n",
    "import matplotlib.pyplot as plt\n",
    "from matplotlib.animation import FuncAnimation"
   ]
  },
  {
   "cell_type": "code",
   "execution_count": 64,
   "metadata": {},
   "outputs": [],
   "source": [
    "class bb:\n",
    "    \n",
    "    def __init__(self,height,width,alive_prop):\n",
    "        self.height = height\n",
    "        self.width = width\n",
    "        self.alive_prop = alive_prop\n",
    "        #self.bb_board = None\n",
    "        self.create_bb_board()\n",
    "\n",
    "    def create_bb_board(self):\n",
    "        # create initial state of bb board\n",
    "        self.bb_board = np.zeros((self.height, self.width),dtype=int)\n",
    "        seed = np.random.choice([0, 2], size=(round(self.height*.15),round(self.width*.15)), p=[(1-self.alive_prop), self.alive_prop])\n",
    "        \n",
    "        mid_row = math.floor(self.height/2)     \n",
    "        mid_col = math.floor(self.width/2)\n",
    "        \n",
    "        self.bb_board[mid_col:mid_col+seed.shape[0], mid_row:mid_row+seed.shape[1]] = seed   \n",
    "        \n",
    "    def evaluate_single_step(self):\n",
    "\n",
    "        new_board = self.bb_board.copy()\n",
    "\n",
    "        for r, c in np.ndindex(self.bb_board.shape):\n",
    "            cell = self.bb_board[r,c]\n",
    "            check = self.bb_board[max(r-1, 0):min(r+2, self.height), max(c-1, 0):min(c+2, self.width)] \n",
    "            alive_neighbors = np.count_nonzero(check == 2)\n",
    "            dying_neighbors = np.count_nonzero(check == 1)\n",
    "\n",
    "            if cell == 2:\n",
    "                alive_neighbors -= 1\n",
    "                \n",
    "            elif cell == 1:\n",
    "                dying_neighbors -= 1\n",
    "\n",
    "            if cell == 2:\n",
    "                new_board[r,c] = 1\n",
    "\n",
    "            elif cell == 1:\n",
    "                new_board[r,c] = 0\n",
    "\n",
    "            elif cell == 0 and alive_neighbors == 2:\n",
    "                new_board[r,c] = 2\n",
    "\n",
    "        self.bb_board = new_board"
   ]
  },
  {
   "cell_type": "code",
   "execution_count": 34,
   "metadata": {},
   "outputs": [],
   "source": [
    "def update(i):\n",
    "    label = 'timestep {0}'.format(i)    \n",
    "    cell_plot.set_data(bb_instance.bb_board)\n",
    "    bb_instance.evaluate_single_step()"
   ]
  },
  {
   "cell_type": "code",
   "execution_count": null,
   "metadata": {
    "scrolled": true
   },
   "outputs": [],
   "source": [
    "bb_instance = bb(200,200,.4)\n",
    "fig, ax = plt.subplots()\n",
    "cell_plot = ax.imshow(bb_instance.bb_board)\n",
    "\n",
    "anim = FuncAnimation(fig, update, frames=np.arange(0, 60), interval=200)\n",
    "anim.save('bb.gif', dpi=250, writer='imagemagick')"
   ]
  }
 ],
 "metadata": {
  "kernelspec": {
   "display_name": "Python 3",
   "language": "python",
   "name": "python3"
  },
  "language_info": {
   "codemirror_mode": {
    "name": "ipython",
    "version": 3
   },
   "file_extension": ".py",
   "mimetype": "text/x-python",
   "name": "python",
   "nbconvert_exporter": "python",
   "pygments_lexer": "ipython3",
   "version": "3.7.1"
  }
 },
 "nbformat": 4,
 "nbformat_minor": 2
}
